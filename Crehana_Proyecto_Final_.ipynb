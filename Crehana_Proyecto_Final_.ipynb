{
  "nbformat": 4,
  "nbformat_minor": 0,
  "metadata": {
    "colab": {
      "name": "Crehana: Proyecto Final .ipynb",
      "provenance": [],
      "authorship_tag": "ABX9TyOn7mCGvO7cfGI2BMqHRNVb",
      "include_colab_link": true
    },
    "kernelspec": {
      "name": "python3",
      "display_name": "Python 3"
    },
    "language_info": {
      "name": "python"
    }
  },
  "cells": [
    {
      "cell_type": "markdown",
      "metadata": {
        "id": "view-in-github",
        "colab_type": "text"
      },
      "source": [
        "<a href=\"https://colab.research.google.com/github/pool-orellana/Cursos-de-Programacion/blob/main/Crehana_Proyecto_Final_.ipynb\" target=\"_parent\"><img src=\"https://colab.research.google.com/assets/colab-badge.svg\" alt=\"Open In Colab\"/></a>"
      ]
    },
    {
      "cell_type": "markdown",
      "source": [
        "PROYECTO FINAL DEL CURSO DE INTRODUCCION A PYTHON\n",
        "\n",
        "\n",
        "\n",
        "1.   Se realizara un juego aplicando los conceptos aprendidos en el curso. \n",
        "2.   El juegocumplira los retos que le impone una esfinge.\n",
        "\n"
      ],
      "metadata": {
        "id": "r_UV0Y0BZcUo"
      }
    },
    {
      "cell_type": "markdown",
      "source": [
        "Para nuestro juego ‘trekjuls’ de aventura, vas a responder los retos\n",
        "que te ira poniendo una esfinge. En esta primera parte te pedirá\n",
        "definir los elementos que consideres necesarios para embarcarte\n",
        "en una aventura de trekking, también te preguntará si puedes\n",
        "mezclar elementos de tu lista para darles más funcionalidades.\n",
        "Las variables y los operadores te serán de gran ayuda para vencer\n",
        "a la esfinge."
      ],
      "metadata": {
        "id": "atsYd6zveMyz"
      }
    },
    {
      "cell_type": "code",
      "source": [
        "#Clase 1: Proyecto. Definiendo la aventura.\n",
        "\n",
        "print('Define el equipamiento para una aventura de trekking y su valor en trekjuls (moneda del juego):')"
      ],
      "metadata": {
        "id": "SCp2V3tsZjV5",
        "colab": {
          "base_uri": "https://localhost:8080/"
        },
        "outputId": "ac6dc6e0-9934-402c-c096-ea0e4d0d0382"
      },
      "execution_count": 3,
      "outputs": [
        {
          "output_type": "stream",
          "name": "stdout",
          "text": [
            "Define el equipamiento para una aventura de trekking y su valor en trekjuls (moneda del juego):\n"
          ]
        }
      ]
    },
    {
      "cell_type": "code",
      "source": [
        "#Equipamiento - Costo en monedas trekjuls\n",
        "\n",
        "gps = 30\n",
        "botiquin = 30\n",
        "enlatados = 13.5\n",
        "agua = 10\n",
        "vestimenta = 40.8\n",
        "navaja_multiuso = 17.8\n",
        "mochila = 40.5\n",
        "linterna = 8.5\n",
        "saco_de_dormir = 50"
      ],
      "metadata": {
        "id": "DQjSf_oEbNe8"
      },
      "execution_count": 11,
      "outputs": []
    },
    {
      "cell_type": "code",
      "source": [
        "# Lista los elementos\n",
        "\n",
        "print('Lista tres objetos del equipamiento: Nombre y valor')\n",
        "print('gps = ', gps)\n",
        "print('mochila = ', mochila)\n",
        "print('saco_de_dormir =', saco_de_dormir)"
      ],
      "metadata": {
        "colab": {
          "base_uri": "https://localhost:8080/"
        },
        "id": "roNvzmsLeEJA",
        "outputId": "11b8b4fa-81d4-4acf-c857-ffe3045af958"
      },
      "execution_count": 7,
      "outputs": [
        {
          "output_type": "stream",
          "name": "stdout",
          "text": [
            "Lista tres objetos del equipamiento: Nombre y valor\n",
            "gps =  30\n",
            "mochila =  40.5\n",
            "saco_de_dormir = 50\n"
          ]
        }
      ]
    },
    {
      "cell_type": "code",
      "source": [
        "# Combinacion de elementos\n",
        "\n",
        "print(\"¿Puedes convinar elementos de tu equipo para prepararte mejor?\")\n",
        "alimentacion = enlatados + agua\n",
        "equipo_seguridad = navaja_multiuso + botiquin\n",
        "\n",
        "print('Alimentacion: ', alimentacion)\n",
        "print('Equipo de seguridad', equipo_seguridad)"
      ],
      "metadata": {
        "colab": {
          "base_uri": "https://localhost:8080/"
        },
        "id": "cD87aQIQfU5d",
        "outputId": "c1b4de4e-7ea7-476b-ab0a-585cd8ac975c"
      },
      "execution_count": 14,
      "outputs": [
        {
          "output_type": "stream",
          "name": "stdout",
          "text": [
            "¿Puedes convinar elementos de tu equipo para prepararte mejor?\n",
            "Alimentacion:  23.5\n",
            "Equipo de seguridad 47.8\n"
          ]
        }
      ]
    },
    {
      "cell_type": "code",
      "source": [
        ""
      ],
      "metadata": {
        "id": "JpRjqse7fsbu"
      },
      "execution_count": null,
      "outputs": []
    }
  ]
}